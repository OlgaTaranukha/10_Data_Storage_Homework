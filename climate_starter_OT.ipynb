{
 "cells": [
  {
   "cell_type": "code",
   "execution_count": 30,
   "metadata": {},
   "outputs": [],
   "source": [
    "%matplotlib inline\n",
    "from matplotlib import style\n",
    "style.use('fivethirtyeight')\n",
    "import matplotlib.pyplot as plt"
   ]
  },
  {
   "cell_type": "code",
   "execution_count": 31,
   "metadata": {},
   "outputs": [],
   "source": [
    "import numpy as np\n",
    "import pandas as pd"
   ]
  },
  {
   "cell_type": "code",
   "execution_count": 32,
   "metadata": {},
   "outputs": [],
   "source": [
    "import datetime as dt"
   ]
  },
  {
   "cell_type": "markdown",
   "metadata": {},
   "source": [
    "# Reflect Tables into SQLAlchemy ORM"
   ]
  },
  {
   "cell_type": "code",
   "execution_count": 33,
   "metadata": {},
   "outputs": [],
   "source": [
    "# Python SQL toolkit and Object Relational Mapper\n",
    "import sqlalchemy\n",
    "from sqlalchemy.ext.automap import automap_base\n",
    "from sqlalchemy.orm import Session\n",
    "from sqlalchemy import create_engine, func"
   ]
  },
  {
   "cell_type": "code",
   "execution_count": 34,
   "metadata": {},
   "outputs": [],
   "source": [
    "engine = create_engine(\"sqlite:///Resources/hawaii.sqlite\")"
   ]
  },
  {
   "cell_type": "code",
   "execution_count": 35,
   "metadata": {},
   "outputs": [],
   "source": [
    "# reflect an existing database into a new model\n",
    "Base = automap_base()\n",
    "# reflect the tables\n",
    "Base.prepare(engine, reflect=True)"
   ]
  },
  {
   "cell_type": "code",
   "execution_count": 36,
   "metadata": {},
   "outputs": [
    {
     "data": {
      "text/plain": [
       "['measurement', 'station']"
      ]
     },
     "execution_count": 36,
     "metadata": {},
     "output_type": "execute_result"
    }
   ],
   "source": [
    "# We can view all of the classes that automap found\n",
    "Base.classes.keys()"
   ]
  },
  {
   "cell_type": "code",
   "execution_count": 37,
   "metadata": {},
   "outputs": [],
   "source": [
    "# Save references to each table\n",
    "Measurement = Base.classes.measurement\n",
    "Station = Base.classes.station"
   ]
  },
  {
   "cell_type": "code",
   "execution_count": 38,
   "metadata": {},
   "outputs": [],
   "source": [
    "# Create our session (link) from Python to the DB\n",
    "session = Session(engine)"
   ]
  },
  {
   "cell_type": "markdown",
   "metadata": {},
   "source": [
    "# Exploratory Climate Analysis"
   ]
  },
  {
   "cell_type": "markdown",
   "metadata": {},
   "source": [
    "# Precipitation Analysis"
   ]
  },
  {
   "cell_type": "code",
   "execution_count": 39,
   "metadata": {},
   "outputs": [
    {
     "data": {
      "text/plain": [
       "[('2010-01-01', '2017-08-23')]"
      ]
     },
     "execution_count": 39,
     "metadata": {},
     "output_type": "execute_result"
    }
   ],
   "source": [
    "# Design a query to retrieve the last 12 months of precipitation data and plot the results\n",
    "\n",
    "# Get min and max dates of measurements\n",
    "sel =  [func.min(Measurement.date), \n",
    "        func.max(Measurement.date)]\n",
    "dates = session.query(*sel).all()\n",
    "dates"
   ]
  },
  {
   "cell_type": "code",
   "execution_count": 40,
   "metadata": {},
   "outputs": [
    {
     "name": "stdout",
     "output_type": "stream",
     "text": [
      "2016-08-23 00:00:00\n",
      "2017-08-23 00:00:00\n"
     ]
    }
   ],
   "source": [
    "# Calculate the date 1 year ago from the last data point in the database\n",
    "date_end = dt.datetime.strptime(dates[0][1], '%Y-%m-%d')\n",
    "delta = dt.timedelta(days=365)\n",
    "date_start = date_end - delta\n",
    "print(date_start)\n",
    "print(date_end)"
   ]
  },
  {
   "cell_type": "code",
   "execution_count": 41,
   "metadata": {},
   "outputs": [
    {
     "data": {
      "text/plain": [
       "[('2016-08-24', 0.08),\n",
       " ('2016-08-25', 0.08),\n",
       " ('2016-08-26', 0.0),\n",
       " ('2016-08-27', 0.0),\n",
       " ('2016-08-28', 0.01),\n",
       " ('2016-08-29', 0.0),\n",
       " ('2016-08-30', 0.0),\n",
       " ('2016-08-31', 0.13),\n",
       " ('2016-09-01', 0.0),\n",
       " ('2016-09-02', 0.0)]"
      ]
     },
     "execution_count": 41,
     "metadata": {},
     "output_type": "execute_result"
    }
   ],
   "source": [
    "# Perform a query to retrieve the data and precipitation scores\n",
    "precipitation = session.query(Measurement.date, Measurement.prcp).\\\n",
    "    filter(Measurement.date>=date_start).all()\n",
    "\n",
    "precipitation[0:10]"
   ]
  },
  {
   "cell_type": "code",
   "execution_count": 42,
   "metadata": {},
   "outputs": [
    {
     "data": {
      "text/html": [
       "<div>\n",
       "<style scoped>\n",
       "    .dataframe tbody tr th:only-of-type {\n",
       "        vertical-align: middle;\n",
       "    }\n",
       "\n",
       "    .dataframe tbody tr th {\n",
       "        vertical-align: top;\n",
       "    }\n",
       "\n",
       "    .dataframe thead th {\n",
       "        text-align: right;\n",
       "    }\n",
       "</style>\n",
       "<table border=\"1\" class=\"dataframe\">\n",
       "  <thead>\n",
       "    <tr style=\"text-align: right;\">\n",
       "      <th></th>\n",
       "      <th>precipitation</th>\n",
       "    </tr>\n",
       "    <tr>\n",
       "      <th>date</th>\n",
       "      <th></th>\n",
       "    </tr>\n",
       "  </thead>\n",
       "  <tbody>\n",
       "    <tr>\n",
       "      <th>2016-08-24</th>\n",
       "      <td>0.08</td>\n",
       "    </tr>\n",
       "    <tr>\n",
       "      <th>2016-08-24</th>\n",
       "      <td>NaN</td>\n",
       "    </tr>\n",
       "    <tr>\n",
       "      <th>2016-08-24</th>\n",
       "      <td>2.15</td>\n",
       "    </tr>\n",
       "    <tr>\n",
       "      <th>2016-08-24</th>\n",
       "      <td>2.28</td>\n",
       "    </tr>\n",
       "    <tr>\n",
       "      <th>2016-08-24</th>\n",
       "      <td>2.15</td>\n",
       "    </tr>\n",
       "  </tbody>\n",
       "</table>\n",
       "</div>"
      ],
      "text/plain": [
       "            precipitation\n",
       "date                     \n",
       "2016-08-24           0.08\n",
       "2016-08-24            NaN\n",
       "2016-08-24           2.15\n",
       "2016-08-24           2.28\n",
       "2016-08-24           2.15"
      ]
     },
     "execution_count": 42,
     "metadata": {},
     "output_type": "execute_result"
    }
   ],
   "source": [
    "# Save the query results as a Pandas DataFrame \n",
    "prcp_df = pd.DataFrame(precipitation, columns=['date', 'precipitation'])\n",
    "\n",
    "# Sort the dataframe by date\n",
    "prcp_df.sort_values('date', axis=0, ascending=True, inplace=True)\n",
    "\n",
    "# set the index to the date column\n",
    "prcp_df.set_index('date', inplace=True)\n",
    "\n",
    "# dropping null value columns\n",
    "#prcp_df.dropna(inplace = True) \n",
    "\n",
    "prcp_df.head()"
   ]
  },
  {
   "cell_type": "code",
   "execution_count": 44,
   "metadata": {},
   "outputs": [
    {
     "data": {
      "image/png": "[encoded data removed]",
      "text/plain": [
       "<Figure size 432x288 with 1 Axes>"
      ]
     },
     "metadata": {},
     "output_type": "display_data"
    }
   ],
   "source": [
    "# Plot the data Using Pandas Matplotlib \n",
    "fig = prcp_df.plot(rot=90).get_figure()\n",
    "\n",
    "# Save plot\n",
    "fig.savefig(\"Images/precipitation.png\", bbox_inches=\"tight\")"
   ]
  },
  {
   "cell_type": "code",
   "execution_count": 45,
   "metadata": {},
   "outputs": [
    {
     "data": {
      "text/html": [
       "<div>\n",
       "<style scoped>\n",
       "    .dataframe tbody tr th:only-of-type {\n",
       "        vertical-align: middle;\n",
       "    }\n",
       "\n",
       "    .dataframe tbody tr th {\n",
       "        vertical-align: top;\n",
       "    }\n",
       "\n",
       "    .dataframe thead th {\n",
       "        text-align: right;\n",
       "    }\n",
       "</style>\n",
       "<table border=\"1\" class=\"dataframe\">\n",
       "  <thead>\n",
       "    <tr style=\"text-align: right;\">\n",
       "      <th></th>\n",
       "      <th>precipitation</th>\n",
       "    </tr>\n",
       "  </thead>\n",
       "  <tbody>\n",
       "    <tr>\n",
       "      <th>count</th>\n",
       "      <td>2015.000000</td>\n",
       "    </tr>\n",
       "    <tr>\n",
       "      <th>mean</th>\n",
       "      <td>0.176462</td>\n",
       "    </tr>\n",
       "    <tr>\n",
       "      <th>std</th>\n",
       "      <td>0.460288</td>\n",
       "    </tr>\n",
       "    <tr>\n",
       "      <th>min</th>\n",
       "      <td>0.000000</td>\n",
       "    </tr>\n",
       "    <tr>\n",
       "      <th>25%</th>\n",
       "      <td>0.000000</td>\n",
       "    </tr>\n",
       "    <tr>\n",
       "      <th>50%</th>\n",
       "      <td>0.020000</td>\n",
       "    </tr>\n",
       "    <tr>\n",
       "      <th>75%</th>\n",
       "      <td>0.130000</td>\n",
       "    </tr>\n",
       "    <tr>\n",
       "      <th>max</th>\n",
       "      <td>6.700000</td>\n",
       "    </tr>\n",
       "  </tbody>\n",
       "</table>\n",
       "</div>"
      ],
      "text/plain": [
       "       precipitation\n",
       "count    2015.000000\n",
       "mean        0.176462\n",
       "std         0.460288\n",
       "min         0.000000\n",
       "25%         0.000000\n",
       "50%         0.020000\n",
       "75%         0.130000\n",
       "max         6.700000"
      ]
     },
     "execution_count": 45,
     "metadata": {},
     "output_type": "execute_result"
    }
   ],
   "source": [
    "# Use Pandas to calcualte the summary statistics for the precipitation data\n",
    "prcp_df.describe()"
   ]
  },
  {
   "cell_type": "markdown",
   "metadata": {},
   "source": [
    "# Station Analysis"
   ]
  },
  {
   "cell_type": "code",
   "execution_count": 46,
   "metadata": {},
   "outputs": [
    {
     "data": {
      "text/plain": [
       "[(9)]"
      ]
     },
     "execution_count": 46,
     "metadata": {},
     "output_type": "execute_result"
    }
   ],
   "source": [
    "# Design a query to show how many stations are available in this dataset?\n",
    "# Get min and max dates of measurements\n",
    "number_station = session.query(func.count(Station.station)).all()\n",
    "number_station"
   ]
  },
  {
   "cell_type": "code",
   "execution_count": 48,
   "metadata": {},
   "outputs": [
    {
     "data": {
      "text/plain": [
       "[('USC00519281', 2772),\n",
       " ('USC00519397', 2724),\n",
       " ('USC00513117', 2709),\n",
       " ('USC00519523', 2669),\n",
       " ('USC00516128', 2612),\n",
       " ('USC00514830', 2202),\n",
       " ('USC00511918', 1979),\n",
       " ('USC00517948', 1372),\n",
       " ('USC00518838', 511)]"
      ]
     },
     "execution_count": 48,
     "metadata": {},
     "output_type": "execute_result"
    }
   ],
   "source": [
    "# What are the most active stations? (i.e. what stations have the most rows)?\n",
    "# List the stations and the counts in descending order.\n",
    "station_activity = session.query(Measurement.station, func.count(Measurement.station)).\\\n",
    "    group_by(Measurement.station).order_by(func.count(Measurement.station).desc()).all()\n",
    "\n",
    "station_activity"
   ]
  },
  {
   "cell_type": "code",
   "execution_count": 49,
   "metadata": {},
   "outputs": [
    {
     "data": {
      "text/plain": [
       "'USC00519281'"
      ]
     },
     "execution_count": 49,
     "metadata": {},
     "output_type": "execute_result"
    }
   ],
   "source": [
    "# most active station ID\n",
    "station_activity[0][0]"
   ]
  },
  {
   "cell_type": "code",
   "execution_count": 52,
   "metadata": {},
   "outputs": [
    {
     "data": {
      "text/plain": [
       "[(54.0, 85.0, 71.66378066378067)]"
      ]
     },
     "execution_count": 52,
     "metadata": {},
     "output_type": "execute_result"
    }
   ],
   "source": [
    "# Using the station id from the previous query, calculate the lowest temperature recorded, \n",
    "# highest temperature recorded, and average temperature most active station?\n",
    "# Get min, max and avg of temperature\n",
    "sel =  [func.min(Measurement.tobs), \n",
    "        func.max(Measurement.tobs),\n",
    "        func.avg(Measurement.tobs)]\n",
    "tempature = session.query(*sel).filter(Measurement.station == station_activity[0][0]).all()\n",
    "tempature"
   ]
  },
  {
   "cell_type": "code",
   "execution_count": 53,
   "metadata": {},
   "outputs": [
    {
     "data": {
      "text/plain": [
       "[('USC00519281', 2772),\n",
       " ('USC00513117', 2696),\n",
       " ('USC00519397', 2685),\n",
       " ('USC00519523', 2572),\n",
       " ('USC00516128', 2484),\n",
       " ('USC00514830', 1937),\n",
       " ('USC00511918', 1932),\n",
       " ('USC00517948', 683),\n",
       " ('USC00518838', 342)]"
      ]
     },
     "execution_count": 53,
     "metadata": {},
     "output_type": "execute_result"
    }
   ],
   "source": [
    "# number of precipitation observations for each station\n",
    "station_act_prcp = session.query(Measurement.station, func.count(Measurement.prcp)).\\\n",
    "    group_by(Measurement.station).order_by(func.count(Measurement.prcp).desc()).all()\n",
    "\n",
    "station_act_prcp"
   ]
  },
  {
   "cell_type": "code",
   "execution_count": 54,
   "metadata": {},
   "outputs": [
    {
     "data": {
      "text/plain": [
       "'USC00519281'"
      ]
     },
     "execution_count": 54,
     "metadata": {},
     "output_type": "execute_result"
    }
   ],
   "source": [
    "# Choose the station with the highest number of temperature observations.\n",
    "station_act_tobs = session.query(Measurement.station, func.count(Measurement.tobs)).\\\n",
    "    group_by(Measurement.station).order_by(func.count(Measurement.tobs).desc()).all()\n",
    "\n",
    "station_act_tobs[0][0]"
   ]
  },
  {
   "cell_type": "code",
   "execution_count": 55,
   "metadata": {},
   "outputs": [
    {
     "data": {
      "text/plain": [
       "[('USC00519397', 87.0)]"
      ]
     },
     "execution_count": 55,
     "metadata": {},
     "output_type": "execute_result"
    }
   ],
   "source": [
    "station_act_tobs_ = session.query(Measurement.station, func.max(Measurement.tobs).label('Max')).all()\n",
    "station_act_tobs_"
   ]
  },
  {
   "cell_type": "code",
   "execution_count": 57,
   "metadata": {},
   "outputs": [
    {
     "data": {
      "text/plain": [
       "[('2016-08-24', 77.0),\n",
       " ('2016-08-25', 80.0),\n",
       " ('2016-08-26', 80.0),\n",
       " ('2016-08-27', 75.0),\n",
       " ('2016-08-28', 73.0),\n",
       " ('2016-08-29', 78.0),\n",
       " ('2016-08-30', 77.0),\n",
       " ('2016-08-31', 78.0),\n",
       " ('2016-09-01', 80.0),\n",
       " ('2016-09-02', 80.0)]"
      ]
     },
     "execution_count": 57,
     "metadata": {},
     "output_type": "execute_result"
    }
   ],
   "source": [
    "# Query the last 12 months of temperature observation data for this station\n",
    "temperature = session.query(Measurement.date, Measurement.tobs).\\\n",
    "    filter(Measurement.date>=date_start).\\\n",
    "    filter(Measurement.station == station_act_tobs[0][0]).all()\n",
    "\n",
    "temperature[0:10]"
   ]
  },
  {
   "cell_type": "code",
   "execution_count": 58,
   "metadata": {},
   "outputs": [
    {
     "data": {
      "text/plain": [
       "351"
      ]
     },
     "execution_count": 58,
     "metadata": {},
     "output_type": "execute_result"
    }
   ],
   "source": [
    "# number of temperature observations\n",
    "len(temperature)"
   ]
  },
  {
   "cell_type": "code",
   "execution_count": 59,
   "metadata": {},
   "outputs": [
    {
     "data": {
      "text/html": [
       "<div>\n",
       "<style scoped>\n",
       "    .dataframe tbody tr th:only-of-type {\n",
       "        vertical-align: middle;\n",
       "    }\n",
       "\n",
       "    .dataframe tbody tr th {\n",
       "        vertical-align: top;\n",
       "    }\n",
       "\n",
       "    .dataframe thead th {\n",
       "        text-align: right;\n",
       "    }\n",
       "</style>\n",
       "<table border=\"1\" class=\"dataframe\">\n",
       "  <thead>\n",
       "    <tr style=\"text-align: right;\">\n",
       "      <th></th>\n",
       "      <th>temperature</th>\n",
       "    </tr>\n",
       "    <tr>\n",
       "      <th>date</th>\n",
       "      <th></th>\n",
       "    </tr>\n",
       "  </thead>\n",
       "  <tbody>\n",
       "    <tr>\n",
       "      <th>2016-08-24</th>\n",
       "      <td>77.0</td>\n",
       "    </tr>\n",
       "    <tr>\n",
       "      <th>2016-08-25</th>\n",
       "      <td>80.0</td>\n",
       "    </tr>\n",
       "    <tr>\n",
       "      <th>2016-08-26</th>\n",
       "      <td>80.0</td>\n",
       "    </tr>\n",
       "    <tr>\n",
       "      <th>2016-08-27</th>\n",
       "      <td>75.0</td>\n",
       "    </tr>\n",
       "    <tr>\n",
       "      <th>2016-08-28</th>\n",
       "      <td>73.0</td>\n",
       "    </tr>\n",
       "  </tbody>\n",
       "</table>\n",
       "</div>"
      ],
      "text/plain": [
       "            temperature\n",
       "date                   \n",
       "2016-08-24         77.0\n",
       "2016-08-25         80.0\n",
       "2016-08-26         80.0\n",
       "2016-08-27         75.0\n",
       "2016-08-28         73.0"
      ]
     },
     "execution_count": 59,
     "metadata": {},
     "output_type": "execute_result"
    }
   ],
   "source": [
    "# Save the query results as a Pandas DataFrame \n",
    "tobs_df = pd.DataFrame(temperature, columns=['date', 'temperature'])\n",
    "\n",
    "# Sort the dataframe by date\n",
    "tobs_df.sort_values('date', axis=0, ascending=True, inplace=True)\n",
    "\n",
    "tobs_df.set_index('date', inplace=True)\n",
    "\n",
    "tobs_df.head()"
   ]
  },
  {
   "cell_type": "code",
   "execution_count": 60,
   "metadata": {},
   "outputs": [
    {
     "data": {
      "image/png": "[encoded data removed]",
      "text/plain": [
       "<Figure size 432x288 with 1 Axes>"
      ]
     },
     "metadata": {},
     "output_type": "display_data"
    }
   ],
   "source": [
    "# plot the results \n",
    "fig = tobs_df.plot(rot=90).get_figure()\n",
    "\n",
    "# Save plot\n",
    "fig.savefig(\"Images/temperature.png\", bbox_inches=\"tight\")"
   ]
  },
  {
   "cell_type": "code",
   "execution_count": 61,
   "metadata": {},
   "outputs": [
    {
     "data": {
      "image/png": "[encoded data removed]",
      "text/plain": [
       "<Figure size 432x288 with 1 Axes>"
      ]
     },
     "metadata": {},
     "output_type": "display_data"
    }
   ],
   "source": [
    "# plot the results as a histogram\n",
    "fig = tobs_df.plot.hist(bins=12).get_figure()\n",
    "\n",
    "# Save plot\n",
    "fig.savefig(\"Images/temperature_hist.png\", bbox_inches=\"tight\")"
   ]
  },
  {
   "cell_type": "code",
   "execution_count": 63,
   "metadata": {},
   "outputs": [
    {
     "name": "stdout",
     "output_type": "stream",
     "text": [
      "[(62.0, 69.57142857142857, 74.0)]\n"
     ]
    }
   ],
   "source": [
    "# This function called `calc_temps` will accept start date and end date in the format '%Y-%m-%d' \n",
    "# and return the minimum, average, and maximum temperatures for that range of dates\n",
    "def calc_temps(start_date, end_date):\n",
    "    \"\"\"TMIN, TAVG, and TMAX for a list of dates.\n",
    "    \n",
    "    Args:\n",
    "        start_date (string): A date string in the format %Y-%m-%d\n",
    "        end_date (string): A date string in the format %Y-%m-%d\n",
    "        \n",
    "    Returns:\n",
    "        TMIN, TAVE, and TMAX\n",
    "    \"\"\"\n",
    "    \n",
    "    return session.query(func.min(Measurement.tobs), func.avg(Measurement.tobs), func.max(Measurement.tobs)).\\\n",
    "        filter(Measurement.date >= start_date).filter(Measurement.date <= end_date).all()\n",
    "\n",
    "# function usage example\n",
    "print(calc_temps('2012-02-28', '2012-03-05'))"
   ]
  },
  {
   "cell_type": "code",
   "execution_count": 73,
   "metadata": {},
   "outputs": [
    {
     "name": "stdout",
     "output_type": "stream",
     "text": [
      "start date in the history: 2016-08-24\n",
      "end date in the history: 2016-09-07\n",
      "[(71.0, 78.03225806451613, 84.0)]\n"
     ]
    }
   ],
   "source": [
    "## Use your previous function `calc_temps` to calculate the tmin, tavg, and tmax \n",
    "# for your trip using the previous year's data for those same dates.\n",
    "\n",
    "# My vacation starts 2017-08-24\n",
    "d_start = date_end + dt.timedelta(days=1) - dt.timedelta(days=365)\n",
    "d_end = d_start + dt.timedelta(days=14)\n",
    "\n",
    "vacation_start = dt.datetime.strftime(d_start, '%Y-%m-%d')\n",
    "vacation_end = dt.datetime.strftime(d_end, '%Y-%m-%d')\n",
    "print(f'start date in the history: {vacation_start}')\n",
    "print(f'end date in the history: {vacation_end}')\n",
    "\n",
    "vacation_temp = calc_temps(vacation_start, vacation_end)\n",
    "print(vacation_temp)"
   ]
  },
  {
   "cell_type": "code",
   "execution_count": 74,
   "metadata": {},
   "outputs": [
    {
     "data": {
      "image/png": "[encoded data removed]",
      "text/plain": [
       "<Figure size 432x288 with 1 Axes>"
      ]
     },
     "metadata": {},
     "output_type": "display_data"
    }
   ],
   "source": [
    "# Plot the results from your previous query as a bar chart. \n",
    "y_temp = [vacation_temp[0][0], vacation_temp[0][1], vacation_temp[0][1]]\n",
    "\n",
    "# Use \"Trip Avg Temp\" as your Title\n",
    "# Use the average temperature for the y value\n",
    "# Use the peak-to-peak (tmax-tmin) value as the y error bar (yerr)\n",
    "fig, ax = plt.subplots()\n",
    "x = 1\n",
    "\n",
    "ax.boxplot(y_temp, patch_artist=True)\n",
    "#ax.set_title('Trip Avg Temp')\n",
    "\n",
    "plt.bar(x, y_temp, align='center', alpha=0.5)\n",
    "plt.ylabel('Temp(F)')\n",
    "plt.title('Trip Avg Temp')\n",
    "\n",
    "plt.show()\n",
    "\n",
    "# Save plot\n",
    "fig.savefig(\"Images/temperature_bar.png\", bbox_inches=\"tight\")"
   ]
  },
  {
   "cell_type": "code",
   "execution_count": 75,
   "metadata": {},
   "outputs": [
    {
     "data": {
      "text/html": [
       "<div>\n",
       "<style scoped>\n",
       "    .dataframe tbody tr th:only-of-type {\n",
       "        vertical-align: middle;\n",
       "    }\n",
       "\n",
       "    .dataframe tbody tr th {\n",
       "        vertical-align: top;\n",
       "    }\n",
       "\n",
       "    .dataframe thead th {\n",
       "        text-align: right;\n",
       "    }\n",
       "</style>\n",
       "<table border=\"1\" class=\"dataframe\">\n",
       "  <thead>\n",
       "    <tr style=\"text-align: right;\">\n",
       "      <th></th>\n",
       "      <th>station</th>\n",
       "      <th>name</th>\n",
       "      <th>latitude</th>\n",
       "      <th>longitude</th>\n",
       "      <th>elevation</th>\n",
       "      <th>precipitation</th>\n",
       "    </tr>\n",
       "  </thead>\n",
       "  <tbody>\n",
       "    <tr>\n",
       "      <th>0</th>\n",
       "      <td>USC00516128</td>\n",
       "      <td>MANOA LYON ARBO 785.2, HI US</td>\n",
       "      <td>21.33310</td>\n",
       "      <td>-157.80250</td>\n",
       "      <td>152.4</td>\n",
       "      <td>11.05</td>\n",
       "    </tr>\n",
       "    <tr>\n",
       "      <th>1</th>\n",
       "      <td>USC00519281</td>\n",
       "      <td>WAIHEE 837.5, HI US</td>\n",
       "      <td>21.45167</td>\n",
       "      <td>-157.84889</td>\n",
       "      <td>32.9</td>\n",
       "      <td>4.12</td>\n",
       "    </tr>\n",
       "    <tr>\n",
       "      <th>2</th>\n",
       "      <td>USC00513117</td>\n",
       "      <td>KANEOHE 838.1, HI US</td>\n",
       "      <td>21.42340</td>\n",
       "      <td>-157.80150</td>\n",
       "      <td>14.6</td>\n",
       "      <td>3.23</td>\n",
       "    </tr>\n",
       "    <tr>\n",
       "      <th>3</th>\n",
       "      <td>USC00514830</td>\n",
       "      <td>KUALOA RANCH HEADQUARTERS 886.9, HI US</td>\n",
       "      <td>21.52130</td>\n",
       "      <td>-157.83740</td>\n",
       "      <td>7.0</td>\n",
       "      <td>2.96</td>\n",
       "    </tr>\n",
       "    <tr>\n",
       "      <th>4</th>\n",
       "      <td>USC00519523</td>\n",
       "      <td>WAIMANALO EXPERIMENTAL FARM, HI US</td>\n",
       "      <td>21.33556</td>\n",
       "      <td>-157.71139</td>\n",
       "      <td>19.5</td>\n",
       "      <td>2.80</td>\n",
       "    </tr>\n",
       "    <tr>\n",
       "      <th>5</th>\n",
       "      <td>USC00519397</td>\n",
       "      <td>WAIKIKI 717.2, HI US</td>\n",
       "      <td>21.27160</td>\n",
       "      <td>-157.81680</td>\n",
       "      <td>3.0</td>\n",
       "      <td>0.38</td>\n",
       "    </tr>\n",
       "    <tr>\n",
       "      <th>6</th>\n",
       "      <td>USC00517948</td>\n",
       "      <td>PEARL CITY, HI US</td>\n",
       "      <td>21.39340</td>\n",
       "      <td>-157.97510</td>\n",
       "      <td>11.9</td>\n",
       "      <td>0.06</td>\n",
       "    </tr>\n",
       "  </tbody>\n",
       "</table>\n",
       "</div>"
      ],
      "text/plain": [
       "       station                                    name  latitude  longitude  \\\n",
       "0  USC00516128            MANOA LYON ARBO 785.2, HI US  21.33310 -157.80250   \n",
       "1  USC00519281                     WAIHEE 837.5, HI US  21.45167 -157.84889   \n",
       "2  USC00513117                    KANEOHE 838.1, HI US  21.42340 -157.80150   \n",
       "3  USC00514830  KUALOA RANCH HEADQUARTERS 886.9, HI US  21.52130 -157.83740   \n",
       "4  USC00519523      WAIMANALO EXPERIMENTAL FARM, HI US  21.33556 -157.71139   \n",
       "5  USC00519397                    WAIKIKI 717.2, HI US  21.27160 -157.81680   \n",
       "6  USC00517948                       PEARL CITY, HI US  21.39340 -157.97510   \n",
       "\n",
       "   elevation  precipitation  \n",
       "0      152.4          11.05  \n",
       "1       32.9           4.12  \n",
       "2       14.6           3.23  \n",
       "3        7.0           2.96  \n",
       "4       19.5           2.80  \n",
       "5        3.0           0.38  \n",
       "6       11.9           0.06  "
      ]
     },
     "execution_count": 75,
     "metadata": {},
     "output_type": "execute_result"
    }
   ],
   "source": [
    "# Calculate the total amount of rainfall per weather station for your trip dates using the previous year's matching dates.\n",
    "# Sort this in descending order by precipitation amount and list the station, name, latitude, longitude, and elevation\n",
    "sel = [Measurement.station, \n",
    "       Station.name,\n",
    "       Station.latitude,\n",
    "       Station.longitude,\n",
    "       Station.elevation,\n",
    "       func.sum(Measurement.prcp)]\n",
    "total_prcp = session.query(*sel).\\\n",
    "        join(Station, Measurement.station == Station.station).\\\n",
    "        group_by(Measurement.station).\\\n",
    "        filter(Measurement.date >= vacation_start).filter(Measurement.date <= vacation_end).\\\n",
    "        order_by(func.sum(Measurement.prcp).desc()).all()\n",
    "rainfall_df = pd.DataFrame(total_prcp,columns=['station','name','latitude','longitude', 'elevation','precipitation'])\n",
    "rainfall_df"
   ]
  },
  {
   "cell_type": "code",
   "execution_count": 76,
   "metadata": {},
   "outputs": [
    {
     "data": {
      "text/plain": [
       "[('USC00519397'),\n",
       " ('USC00513117'),\n",
       " ('USC00514830'),\n",
       " ('USC00517948'),\n",
       " ('USC00518838'),\n",
       " ('USC00519523'),\n",
       " ('USC00519281'),\n",
       " ('USC00511918'),\n",
       " ('USC00516128')]"
      ]
     },
     "execution_count": 76,
     "metadata": {},
     "output_type": "execute_result"
    }
   ],
   "source": [
    "# list of stations\n",
    "stations = session.query(Station.station).all()\n",
    "stations"
   ]
  },
  {
   "cell_type": "code",
   "execution_count": 80,
   "metadata": {},
   "outputs": [
    {
     "data": {
      "text/plain": [
       "{'temperature': {'2016-08-24': 79.0,\n",
       "  '2016-08-25': 77.0,\n",
       "  '2016-08-26': 84.0,\n",
       "  '2016-08-27': 81.0,\n",
       "  '2016-08-28': 71.0,\n",
       "  '2016-08-29': 78.0,\n",
       "  '2016-08-30': 79.0,\n",
       "  '2016-08-31': 78.0,\n",
       "  '2016-09-01': 79.0,\n",
       "  '2016-09-02': 81.0,\n",
       "  '2016-09-03': 78.0,\n",
       "  '2016-09-04': 75.0,\n",
       "  '2016-09-05': 82.0,\n",
       "  '2016-09-06': 78.0,\n",
       "  '2016-09-07': 76.0,\n",
       "  '2016-09-08': 81.0,\n",
       "  '2016-09-09': 77.0,\n",
       "  '2016-09-10': 78.0,\n",
       "  '2016-09-11': 76.0,\n",
       "  '2016-09-12': 76.0,\n",
       "  '2016-09-13': 79.0,\n",
       "  '2016-09-14': 76.0,\n",
       "  '2016-09-15': 79.0,\n",
       "  '2016-09-16': 78.0,\n",
       "  '2016-09-17': 76.0,\n",
       "  '2016-09-18': 75.0,\n",
       "  '2016-09-19': 70.0,\n",
       "  '2016-09-20': 76.0,\n",
       "  '2016-09-21': 76.0,\n",
       "  '2016-09-22': 79.0,\n",
       "  '2016-09-23': 76.0,\n",
       "  '2016-09-24': 83.0,\n",
       "  '2016-09-25': 82.0,\n",
       "  '2016-09-26': 77.0,\n",
       "  '2016-09-27': 80.0,\n",
       "  '2016-09-28': 77.0,\n",
       "  '2016-09-29': 80.0,\n",
       "  '2016-09-30': 80.0,\n",
       "  '2016-10-01': 79.0,\n",
       "  '2016-10-02': 80.0,\n",
       "  '2016-10-03': 79.0,\n",
       "  '2016-10-04': 79.0,\n",
       "  '2016-10-05': 77.0,\n",
       "  '2016-10-06': 80.0,\n",
       "  '2016-10-07': 73.0,\n",
       "  '2016-10-08': 78.0,\n",
       "  '2016-10-09': 77.0,\n",
       "  '2016-10-10': 75.0,\n",
       "  '2016-10-11': 80.0,\n",
       "  '2016-10-12': 78.0,\n",
       "  '2016-10-13': 80.0,\n",
       "  '2016-10-14': 79.0,\n",
       "  '2016-10-15': 81.0,\n",
       "  '2016-10-16': 79.0,\n",
       "  '2016-10-17': 77.0,\n",
       "  '2016-10-18': 80.0,\n",
       "  '2016-10-19': 79.0,\n",
       "  '2016-10-20': 78.0,\n",
       "  '2016-10-21': 76.0,\n",
       "  '2016-10-22': 80.0,\n",
       "  '2016-10-23': 78.0,\n",
       "  '2016-10-24': 76.0,\n",
       "  '2016-10-25': 77.0,\n",
       "  '2016-10-26': 73.0,\n",
       "  '2016-10-27': 77.0,\n",
       "  '2016-10-28': 68.0,\n",
       "  '2016-10-29': 76.0,\n",
       "  '2016-10-30': 76.0,\n",
       "  '2016-10-31': 69.0,\n",
       "  '2016-11-01': 79.0,\n",
       "  '2016-11-02': 76.0,\n",
       "  '2016-11-03': 77.0,\n",
       "  '2016-11-04': 74.0,\n",
       "  '2016-11-05': 77.0,\n",
       "  '2016-11-06': 71.0,\n",
       "  '2016-11-07': 72.0,\n",
       "  '2016-11-08': 70.0,\n",
       "  '2016-11-09': 68.0,\n",
       "  '2016-11-10': 71.0,\n",
       "  '2016-11-11': 77.0,\n",
       "  '2016-11-12': 68.0,\n",
       "  '2016-11-13': 78.0,\n",
       "  '2016-11-14': 79.0,\n",
       "  '2016-11-15': 77.0,\n",
       "  '2016-11-16': 75.0,\n",
       "  '2016-11-17': 77.0,\n",
       "  '2016-11-18': 75.0,\n",
       "  '2016-11-19': 73.0,\n",
       "  '2016-11-20': 80.0,\n",
       "  '2016-11-21': 73.0,\n",
       "  '2016-11-22': 76.0,\n",
       "  '2016-11-23': 74.0,\n",
       "  '2016-11-24': 75.0,\n",
       "  '2016-11-25': 76.0,\n",
       "  '2016-11-26': 76.0,\n",
       "  '2016-11-27': 76.0,\n",
       "  '2016-11-28': 76.0,\n",
       "  '2016-11-29': 68.0,\n",
       "  '2016-11-30': 72.0,\n",
       "  '2016-12-01': 76.0,\n",
       "  '2016-12-02': 70.0,\n",
       "  '2016-12-03': 71.0,\n",
       "  '2016-12-04': 69.0,\n",
       "  '2016-12-05': 68.0,\n",
       "  '2016-12-06': 67.0,\n",
       "  '2016-12-07': 69.0,\n",
       "  '2016-12-08': 75.0,\n",
       "  '2016-12-09': 68.0,\n",
       "  '2016-12-10': 70.0,\n",
       "  '2016-12-11': 72.0,\n",
       "  '2016-12-12': 66.0,\n",
       "  '2016-12-13': 72.0,\n",
       "  '2016-12-14': 70.0,\n",
       "  '2016-12-15': 70.0,\n",
       "  '2016-12-16': 60.0,\n",
       "  '2016-12-17': 76.0,\n",
       "  '2016-12-18': 76.0,\n",
       "  '2016-12-19': 69.0,\n",
       "  '2016-12-20': 76.0,\n",
       "  '2016-12-21': 74.0,\n",
       "  '2016-12-22': 71.0,\n",
       "  '2016-12-23': 73.0,\n",
       "  '2016-12-24': 74.0,\n",
       "  '2016-12-25': 74.0,\n",
       "  '2016-12-26': 74.0,\n",
       "  '2016-12-27': 73.0,\n",
       "  '2016-12-28': 71.0,\n",
       "  '2016-12-29': 71.0,\n",
       "  '2016-12-30': 69.0,\n",
       "  '2016-12-31': 66.0,\n",
       "  '2017-01-01': 74.0,\n",
       "  '2017-01-02': 66.0,\n",
       "  '2017-01-03': 63.0,\n",
       "  '2017-01-04': 63.0,\n",
       "  '2017-01-05': 63.0,\n",
       "  '2017-01-06': 62.0,\n",
       "  '2017-01-07': 70.0,\n",
       "  '2017-01-08': 66.0,\n",
       "  '2017-01-09': 65.0,\n",
       "  '2017-01-10': 66.0,\n",
       "  '2017-01-11': 63.0,\n",
       "  '2017-01-12': 67.0,\n",
       "  '2017-01-13': 68.0,\n",
       "  '2017-01-14': 70.0,\n",
       "  '2017-01-15': 68.0,\n",
       "  '2017-01-16': 67.0,\n",
       "  '2017-01-17': 74.0,\n",
       "  '2017-01-18': 73.0,\n",
       "  '2017-01-19': 78.0,\n",
       "  '2017-01-20': 73.0,\n",
       "  '2017-01-21': 73.0,\n",
       "  '2017-01-22': 74.0,\n",
       "  '2017-01-23': 72.0,\n",
       "  '2017-01-24': 71.0,\n",
       "  '2017-01-25': 69.0,\n",
       "  '2017-01-26': 67.0,\n",
       "  '2017-01-27': 65.0,\n",
       "  '2017-01-28': 71.0,\n",
       "  '2017-01-29': 67.0,\n",
       "  '2017-01-30': 66.0,\n",
       "  '2017-01-31': 70.0,\n",
       "  '2017-02-01': 65.0,\n",
       "  '2017-02-02': 64.0,\n",
       "  '2017-02-03': 64.0,\n",
       "  '2017-02-04': 76.0,\n",
       "  '2017-02-05': 73.0,\n",
       "  '2017-02-06': 73.0,\n",
       "  '2017-02-07': 72.0,\n",
       "  '2017-02-08': 62.0,\n",
       "  '2017-02-09': 64.0,\n",
       "  '2017-02-10': 73.0,\n",
       "  '2017-02-11': 70.0,\n",
       "  '2017-02-12': 70.0,\n",
       "  '2017-02-13': 80.0,\n",
       "  '2017-02-14': 72.0,\n",
       "  '2017-02-15': 73.0,\n",
       "  '2017-02-16': 72.0,\n",
       "  '2017-02-17': 70.0,\n",
       "  '2017-02-18': 72.0,\n",
       "  '2017-02-19': 70.0,\n",
       "  '2017-02-20': 69.0,\n",
       "  '2017-02-21': 71.0,\n",
       "  '2017-02-22': 72.0,\n",
       "  '2017-02-23': 75.0,\n",
       "  '2017-02-24': 70.0,\n",
       "  '2017-02-25': 66.0,\n",
       "  '2017-02-26': 67.0,\n",
       "  '2017-02-27': 69.0,\n",
       "  '2017-02-28': 73.0,\n",
       "  '2017-03-01': 64.0,\n",
       "  '2017-03-02': 73.0,\n",
       "  '2017-03-03': 70.0,\n",
       "  '2017-03-04': 77.0,\n",
       "  '2017-03-05': 70.0,\n",
       "  '2017-03-06': 69.0,\n",
       "  '2017-03-07': 68.0,\n",
       "  '2017-03-08': 71.0,\n",
       "  '2017-03-09': 70.0,\n",
       "  '2017-03-10': 65.0,\n",
       "  '2017-03-11': 81.0,\n",
       "  '2017-03-12': 74.0,\n",
       "  '2017-03-13': 66.0,\n",
       "  '2017-03-14': 75.0,\n",
       "  '2017-03-15': 71.0,\n",
       "  '2017-03-16': 66.0,\n",
       "  '2017-03-17': 69.0,\n",
       "  '2017-03-18': 76.0,\n",
       "  '2017-03-19': 72.0,\n",
       "  '2017-03-20': 77.0,\n",
       "  '2017-03-21': 75.0,\n",
       "  '2017-03-22': 76.0,\n",
       "  '2017-03-23': 70.0,\n",
       "  '2017-03-24': 71.0,\n",
       "  '2017-03-25': 75.0,\n",
       "  '2017-03-26': 80.0,\n",
       "  '2017-03-27': 75.0,\n",
       "  '2017-03-28': 78.0,\n",
       "  '2017-03-29': 74.0,\n",
       "  '2017-03-30': 78.0,\n",
       "  '2017-03-31': 75.0,\n",
       "  '2017-04-01': 76.0,\n",
       "  '2017-04-02': 74.0,\n",
       "  '2017-04-03': 75.0,\n",
       "  '2017-04-04': 75.0,\n",
       "  '2017-04-05': 77.0,\n",
       "  '2017-04-06': 67.0,\n",
       "  '2017-04-07': 77.0,\n",
       "  '2017-04-08': 76.0,\n",
       "  '2017-04-09': 78.0,\n",
       "  '2017-04-10': 67.0,\n",
       "  '2017-04-11': 70.0,\n",
       "  '2017-04-12': 77.0,\n",
       "  '2017-04-13': 77.0,\n",
       "  '2017-04-14': 77.0,\n",
       "  '2017-04-15': 70.0,\n",
       "  '2017-04-16': 71.0,\n",
       "  '2017-04-17': 67.0,\n",
       "  '2017-04-18': 68.0,\n",
       "  '2017-04-19': 74.0,\n",
       "  '2017-04-20': 76.0,\n",
       "  '2017-04-21': 70.0,\n",
       "  '2017-04-22': 74.0,\n",
       "  '2017-04-23': 75.0,\n",
       "  '2017-04-24': 77.0,\n",
       "  '2017-04-25': 74.0,\n",
       "  '2017-04-26': 77.0,\n",
       "  '2017-04-27': 73.0,\n",
       "  '2017-04-28': 70.0,\n",
       "  '2017-04-29': 68.0,\n",
       "  '2017-04-30': 61.0,\n",
       "  '2017-05-01': 78.0,\n",
       "  '2017-05-02': 78.0,\n",
       "  '2017-05-03': 78.0,\n",
       "  '2017-05-04': 77.0,\n",
       "  '2017-05-05': 79.0,\n",
       "  '2017-05-06': 80.0,\n",
       "  '2017-05-07': 79.0,\n",
       "  '2017-05-08': 70.0,\n",
       "  '2017-05-09': 79.0,\n",
       "  '2017-05-10': 74.0,\n",
       "  '2017-05-11': 74.0,\n",
       "  '2017-05-12': 74.0,\n",
       "  '2017-05-13': 76.0,\n",
       "  '2017-05-14': 70.0,\n",
       "  '2017-05-15': 77.0,\n",
       "  '2017-05-16': 76.0,\n",
       "  '2017-05-17': 74.0,\n",
       "  '2017-05-18': 70.0,\n",
       "  '2017-05-19': 79.0,\n",
       "  '2017-05-20': 78.0,\n",
       "  '2017-05-21': 72.0,\n",
       "  '2017-05-22': 77.0,\n",
       "  '2017-05-23': 87.0,\n",
       "  '2017-05-24': 75.0,\n",
       "  '2017-05-25': 74.0,\n",
       "  '2017-05-26': 77.0,\n",
       "  '2017-05-27': 72.0,\n",
       "  '2017-05-28': 82.0,\n",
       "  '2017-05-29': 80.0,\n",
       "  '2017-05-30': 81.0,\n",
       "  '2017-05-31': 81.0,\n",
       "  '2017-06-01': 79.0,\n",
       "  '2017-06-02': 81.0,\n",
       "  '2017-06-03': 79.0,\n",
       "  '2017-06-04': 81.0,\n",
       "  '2017-06-05': 80.0,\n",
       "  '2017-06-06': 78.0,\n",
       "  '2017-06-07': 79.0,\n",
       "  '2017-06-08': 75.0,\n",
       "  '2017-06-09': 80.0,\n",
       "  '2017-06-10': 77.0,\n",
       "  '2017-06-11': 73.0,\n",
       "  '2017-06-12': 74.0,\n",
       "  '2017-06-13': 81.0,\n",
       "  '2017-06-14': 74.0,\n",
       "  '2017-06-15': 75.0,\n",
       "  '2017-06-16': 79.0,\n",
       "  '2017-06-17': 77.0,\n",
       "  '2017-06-18': 78.0,\n",
       "  '2017-06-19': 78.0,\n",
       "  '2017-06-20': 78.0,\n",
       "  '2017-06-21': 76.0,\n",
       "  '2017-06-22': 80.0,\n",
       "  '2017-06-23': 78.0,\n",
       "  '2017-06-24': 74.0,\n",
       "  '2017-06-25': 71.0,\n",
       "  '2017-06-26': 80.0,\n",
       "  '2017-06-27': 74.0,\n",
       "  '2017-06-28': 77.0,\n",
       "  '2017-06-29': 76.0,\n",
       "  '2017-06-30': 74.0,\n",
       "  '2017-07-01': 76.0,\n",
       "  '2017-07-02': 80.0,\n",
       "  '2017-07-03': 77.0,\n",
       "  '2017-07-04': 77.0,\n",
       "  '2017-07-05': 81.0,\n",
       "  '2017-07-06': 74.0,\n",
       "  '2017-07-07': 77.0,\n",
       "  '2017-07-08': 81.0,\n",
       "  '2017-07-09': 82.0,\n",
       "  '2017-07-10': 77.0,\n",
       "  '2017-07-11': 72.0,\n",
       "  '2017-07-12': 80.0,\n",
       "  '2017-07-13': 76.0,\n",
       "  '2017-07-14': 80.0,\n",
       "  '2017-07-15': 82.0,\n",
       "  '2017-07-16': 82.0,\n",
       "  '2017-07-17': 82.0,\n",
       "  '2017-07-18': 78.0,\n",
       "  '2017-07-19': 81.0,\n",
       "  '2017-07-20': 80.0,\n",
       "  '2017-07-21': 79.0,\n",
       "  '2017-07-22': 78.0,\n",
       "  '2017-07-23': 75.0,\n",
       "  '2017-07-24': 75.0,\n",
       "  '2017-07-25': 79.0,\n",
       "  '2017-07-26': 78.0,\n",
       "  '2017-07-27': 80.0,\n",
       "  '2017-07-28': 81.0,\n",
       "  '2017-07-29': 82.0,\n",
       "  '2017-07-30': 79.0,\n",
       "  '2017-07-31': 82.0,\n",
       "  '2017-08-01': 75.0,\n",
       "  '2017-08-02': 80.0,\n",
       "  '2017-08-03': 81.0,\n",
       "  '2017-08-04': 82.0,\n",
       "  '2017-08-05': 82.0,\n",
       "  '2017-08-06': 79.0,\n",
       "  '2017-08-07': 81.0,\n",
       "  '2017-08-08': 74.0,\n",
       "  '2017-08-09': 71.0,\n",
       "  '2017-08-10': 80.0,\n",
       "  '2017-08-11': 81.0,\n",
       "  '2017-08-12': 80.0,\n",
       "  '2017-08-13': 80.0,\n",
       "  '2017-08-14': 79.0,\n",
       "  '2017-08-15': 82.0,\n",
       "  '2017-08-16': 76.0,\n",
       "  '2017-08-17': 76.0,\n",
       "  '2017-08-18': 77.0,\n",
       "  '2017-08-19': 79.0,\n",
       "  '2017-08-20': 80.0,\n",
       "  '2017-08-21': 82.0,\n",
       "  '2017-08-22': 82.0,\n",
       "  '2017-08-23': 76.0}}"
      ]
     },
     "execution_count": 80,
     "metadata": {},
     "output_type": "execute_result"
    }
   ],
   "source": [
    "# query for the dates and temperature observations from a year from the last data point\n",
    "tobs_data = session.query(Measurement.date, Measurement.tobs).\\\n",
    "    filter(Measurement.date>=date_start).all()\n",
    "\n",
    "tobs_df_hist = pd.DataFrame(tobs_data, columns=['date', 'temperature'])\n",
    "\n",
    "# Sort the dataframe by date\n",
    "tobs_df_hist.sort_values('date', axis=0, ascending=True, inplace=True)\n",
    "\n",
    "tobs_df_hist.set_index('date', inplace=True)\n",
    "\n",
    "# converting DataFrame to dictionaery\n",
    "tobs_dict = pd.DataFrame(tobs_df_hist).to_dict()\n",
    "tobs_dict"
   ]
  },
  {
   "cell_type": "markdown",
   "metadata": {},
   "source": [
    "## Optional Challenge Assignment"
   ]
  },
  {
   "cell_type": "code",
   "execution_count": 81,
   "metadata": {},
   "outputs": [
    {
     "data": {
      "text/plain": [
       "[(62.0, 69.15384615384616, 77.0)]"
      ]
     },
     "execution_count": 81,
     "metadata": {},
     "output_type": "execute_result"
    }
   ],
   "source": [
    "# Create a query that will calculate the daily normals \n",
    "# (i.e. the averages for tmin, tmax, and tavg for all historic data matching a specific month and day)\n",
    "\n",
    "def daily_normals(date):\n",
    "    \"\"\"Daily Normals.\n",
    "    \n",
    "    Args:\n",
    "        date (str): A date string in the format '%m-%d'\n",
    "        \n",
    "    Returns:\n",
    "        A list of tuples containing the daily normals, tmin, tavg, and tmax\n",
    "    \n",
    "    \"\"\"\n",
    "    \n",
    "    sel = [func.min(Measurement.tobs), func.avg(Measurement.tobs), func.max(Measurement.tobs)]\n",
    "    return session.query(*sel).filter(func.strftime(\"%m-%d\", Measurement.date) == date).all()\n",
    "    \n",
    "daily_normals(\"01-01\")"
   ]
  },
  {
   "cell_type": "code",
   "execution_count": 82,
   "metadata": {},
   "outputs": [],
   "source": [
    "# calculate the daily normals for your trip\n",
    "# push each tuple of calculations into a list called `normals`\n",
    "\n",
    "# Set the start and end date of the trip\n",
    "\n",
    "# Use the start and end date to create a range of dates\n",
    "\n",
    "# Stip off the year and save a list of %m-%d strings\n",
    "\n",
    "# Loop through the list of %m-%d strings and calculate the normals for each date\n"
   ]
  },
  {
   "cell_type": "code",
   "execution_count": 83,
   "metadata": {},
   "outputs": [],
   "source": [
    "# Load the previous query results into a Pandas DataFrame and add the `trip_dates` range as the `date` index\n"
   ]
  },
  {
   "cell_type": "code",
   "execution_count": 84,
   "metadata": {},
   "outputs": [],
   "source": [
    "# Plot the daily normals as an area plot with `stacked=False`\n"
   ]
  },
  {
   "cell_type": "markdown",
   "metadata": {},
   "source": [
    "# Vacation weather API"
   ]
  },
  {
   "cell_type": "code",
   "execution_count": 85,
   "metadata": {},
   "outputs": [
    {
     "data": {
      "text/html": [
       "#/\n",
       "# Home page.\n",
       "# List all routes that are available.\n",
       "# /api/v1.0/precipitation\n",
       "# Convert the query results to a Dictionary using date as the key and prcp as the value.\n",
       "# Return the JSON representation of your dictionary.\n",
       "# /api/v1.0/stations\n",
       "# Return a JSON list of stations from the dataset.\n",
       "# /api/v1.0/tobs\n",
       "# query for the dates and temperature observations from a year from the last data point.\n",
       "# Return a JSON list of Temperature Observations (tobs) for the previous year.\n",
       "# /api/v1.0/<start> and /api/v1.0/<start>/<end>\n",
       "# Return a JSON list of the minimum temperature, the average temperature, and the max temperature for a given start or start-end range.\n",
       "# When given the start only, calculate TMIN, TAVG, and TMAX for all dates greater than and equal to the start date.\n",
       "# When given the start and the end date, calculate the TMIN, TAVG, and TMAX for dates between the start and end date inclusive.\n",
       "\n",
       "from flask import Flask, jsonify\n",
       "\n",
       "#################################################\n",
       "# Flask Setup\n",
       "#################################################\n",
       "app = Flask(__name__)\n",
       "#################################################\n",
       "# Flask Routes\n",
       "#################################################\n",
       "\n",
       "@app.route(\"/\")\n",
       "def welcome():\n",
       "    return (\n",
       "        f\"Welcome to the Vacation weather API!<br/>\"\n",
       "        f\"Available Routes:<br/>\"\n",
       "        f\"/api/v1.0/precipitation\"\n",
       "        f\"/api/v1.0/stations\"\n",
       "        f\"/api/v1.0/tobs\"\n",
       "        f\"/api/v1.0/<start>\"\n",
       "        f\"/api/v1.0/<start>/<end>\"\n",
       "    )\n",
       "\n",
       "@app.route(\"/api/v1.0/precipitation\")\n",
       "def precipitation():\n",
       "    \"\"\"Return the precipitation as json\"\"\"\n",
       "    # converting DataFrame to dictionary \n",
       "    prcp_dict = prcp_df.to_dict()\n",
       "    return jsonify(prcp_dict)\n",
       "\n",
       "@app.route(\"/api/v1.0/stations\")\n",
       "def stations():\n",
       "    \"\"\"Return the stations list as json\"\"\"\n",
       "    return jsonify(session.query(Station.station).all())    #(stations)\n",
       "\n",
       "@app.route(\"/api/v1.0/tobs\")\n",
       "def tobs():\n",
       "    \"\"\"Return the list of Temperature Observations (tobs) for the previous year\"\"\"\n",
       "    # query for the dates and temperature observations from a year from the last data point\n",
       "    tobs_data = session.query(Measurement.date, Measurement.tobs).\\\n",
       "        filter(Measurement.date>=date_start).all()\n",
       "\n",
       "    tobs_df_hist = pd.DataFrame(tobs_data, columns=['date', 'temperature'])\n",
       "\n",
       "    # Sort the dataframe by date\n",
       "    tobs_df_hist.sort_values('date', axis=0, ascending=True, inplace=True)\n",
       "\n",
       "    tobs_df_hist.set_index('date', inplace=True)\n",
       "\n",
       "    # converting DataFrame to dictionaery\n",
       "    tobs_dict = pd.DataFrame(tobs_df_hist).to_dict()\n",
       "    tobs_dict\n",
       "\n",
       "    return jsonify(tobs_dict)\n",
       "\n",
       "\n",
       "@app.route(\"/api/v1.0/<start>\")\n",
       "def daily_temp(start):\n",
       "    \"\"\"TMIN, TAVG, and TMAX for all dates greater than and equal to the start date.\n",
       "    \n",
       "    Args:\n",
       "        start (string): A date string in the format %Y-%m-%d\n",
       "        \n",
       "    Returns:\n",
       "        TMIN, TAVE, and TMAX\n",
       "    \"\"\"\n",
       "    \n",
       "    sel = [func.min(Measurement.tobs), func.avg(Measurement.tobs), func.max(Measurement.tobs)]\n",
       "    return session.query(*sel).filter(Measurement.date >= start).all()\n",
       "\n",
       "@app.route(\"/api/v1.0/<start>/<end>\")\n",
       "def daily_temp_1(start_date, end_date):\n",
       "    \"\"\"TMIN, TAVG, and TMAX for a list of dates.\n",
       "    \n",
       "    Args:\n",
       "        start (string): A date string in the format %Y-%m-%d\n",
       "        end   (string): A date string in the format %Y-%m-%d\n",
       "        \n",
       "    Returns:\n",
       "        TMIN, TAVE, and TMAX\n",
       "    \"\"\"\n",
       "    \n",
       "    sel = [func.min(Measurement.tobs), func.avg(Measurement.tobs), func.max(Measurement.tobs)]\n",
       "    return session.query(*sel).filter(Measurement.date >= start_date).filter(Measurement.date <= end_date).all()\n",
       "\n",
       "\n",
       "if __name__ == \"__main__\":\n",
       "    app.run(debug=True)\n"
      ],
      "text/plain": [
       "<IPython.core.display.HTML object>"
      ]
     },
     "metadata": {},
     "output_type": "display_data"
    }
   ],
   "source": [
    "%%html\n",
    "#/\n",
    "# Home page.\n",
    "# List all routes that are available.\n",
    "# /api/v1.0/precipitation\n",
    "# Convert the query results to a Dictionary using date as the key and prcp as the value.\n",
    "# Return the JSON representation of your dictionary.\n",
    "# /api/v1.0/stations\n",
    "# Return a JSON list of stations from the dataset.\n",
    "# /api/v1.0/tobs\n",
    "# query for the dates and temperature observations from a year from the last data point.\n",
    "# Return a JSON list of Temperature Observations (tobs) for the previous year.\n",
    "# /api/v1.0/<start> and /api/v1.0/<start>/<end>\n",
    "# Return a JSON list of the minimum temperature, the average temperature, and the max temperature for a given start or start-end range.\n",
    "# When given the start only, calculate TMIN, TAVG, and TMAX for all dates greater than and equal to the start date.\n",
    "# When given the start and the end date, calculate the TMIN, TAVG, and TMAX for dates between the start and end date inclusive.\n",
    "\n",
    "from flask import Flask, jsonify\n",
    "\n",
    "#################################################\n",
    "# Flask Setup\n",
    "#################################################\n",
    "app = Flask(__name__)\n",
    "#################################################\n",
    "# Flask Routes\n",
    "#################################################\n",
    "\n",
    "@app.route(\"/\")\n",
    "def welcome():\n",
    "    return (\n",
    "        f\"Welcome to the Vacation weather API!<br/>\"\n",
    "        f\"Available Routes:<br/>\"\n",
    "        f\"/api/v1.0/precipitation\"\n",
    "        f\"/api/v1.0/stations\"\n",
    "        f\"/api/v1.0/tobs\"\n",
    "        f\"/api/v1.0/<start>\"\n",
    "        f\"/api/v1.0/<start>/<end>\"\n",
    "    )\n",
    "\n",
    "@app.route(\"/api/v1.0/precipitation\")\n",
    "def precipitation():\n",
    "    \"\"\"Return the precipitation as json\"\"\"\n",
    "    # converting DataFrame to dictionary \n",
    "    prcp_dict = prcp_df.to_dict()\n",
    "    return jsonify(prcp_dict)\n",
    "\n",
    "@app.route(\"/api/v1.0/stations\")\n",
    "def stations():\n",
    "    \"\"\"Return the stations list as json\"\"\"\n",
    "    return jsonify(session.query(Station.station).all())    #(stations)\n",
    "\n",
    "@app.route(\"/api/v1.0/tobs\")\n",
    "def tobs():\n",
    "    \"\"\"Return the list of Temperature Observations (tobs) for the previous year\"\"\"\n",
    "    # query for the dates and temperature observations from a year from the last data point\n",
    "    tobs_data = session.query(Measurement.date, Measurement.tobs).\\\n",
    "        filter(Measurement.date>=date_start).all()\n",
    "\n",
    "    tobs_df_hist = pd.DataFrame(tobs_data, columns=['date', 'temperature'])\n",
    "\n",
    "    # Sort the dataframe by date\n",
    "    tobs_df_hist.sort_values('date', axis=0, ascending=True, inplace=True)\n",
    "\n",
    "    tobs_df_hist.set_index('date', inplace=True)\n",
    "\n",
    "    # converting DataFrame to dictionaery\n",
    "    tobs_dict = pd.DataFrame(tobs_df_hist).to_dict()\n",
    "    tobs_dict\n",
    "\n",
    "    return jsonify(tobs_dict)\n",
    "\n",
    "\n",
    "@app.route(\"/api/v1.0/<start>\")\n",
    "def daily_temp(start):\n",
    "    \"\"\"TMIN, TAVG, and TMAX for all dates greater than and equal to the start date.\n",
    "    \n",
    "    Args:\n",
    "        start (string): A date string in the format %Y-%m-%d\n",
    "        \n",
    "    Returns:\n",
    "        TMIN, TAVE, and TMAX\n",
    "    \"\"\"\n",
    "    \n",
    "    sel = [func.min(Measurement.tobs), func.avg(Measurement.tobs), func.max(Measurement.tobs)]\n",
    "    return session.query(*sel).filter(Measurement.date >= start).all()\n",
    "\n",
    "@app.route(\"/api/v1.0/<start>/<end>\")\n",
    "def daily_temp_1(start_date, end_date):\n",
    "    \"\"\"TMIN, TAVG, and TMAX for a list of dates.\n",
    "    \n",
    "    Args:\n",
    "        start (string): A date string in the format %Y-%m-%d\n",
    "        end   (string): A date string in the format %Y-%m-%d\n",
    "        \n",
    "    Returns:\n",
    "        TMIN, TAVE, and TMAX\n",
    "    \"\"\"\n",
    "    \n",
    "    sel = [func.min(Measurement.tobs), func.avg(Measurement.tobs), func.max(Measurement.tobs)]\n",
    "    return session.query(*sel).filter(Measurement.date >= start_date).filter(Measurement.date <= end_date).all()\n",
    "\n",
    "\n",
    "if __name__ == \"__main__\":\n",
    "    app.run(debug=True)\n"
   ]
  },
  {
   "cell_type": "code",
   "execution_count": null,
   "metadata": {},
   "outputs": [],
   "source": []
  }
 ],
 "metadata": {
  "kernel_info": {
   "name": "python3"
  },
  "kernelspec": {
   "display_name": "Python 3",
   "language": "python",
   "name": "python3"
  },
  "language_info": {
   "codemirror_mode": {
    "name": "ipython",
    "version": 3
   },
   "file_extension": ".py",
   "mimetype": "text/x-python",
   "name": "python",
   "nbconvert_exporter": "python",
   "pygments_lexer": "ipython3",
   "version": "3.7.3"
  },
  "nteract": {
   "version": "0.12.3"
  },
  "varInspector": {
   "cols": {
    "lenName": 16,
    "lenType": 16,
    "lenVar": 40
   },
   "kernels_config": {
    "python": {
     "delete_cmd_postfix": "",
     "delete_cmd_prefix": "del ",
     "library": "var_list.py",
     "varRefreshCmd": "print(var_dic_list())"
    },
    "r": {
     "delete_cmd_postfix": ") ",
     "delete_cmd_prefix": "rm(",
     "library": "var_list.r",
     "varRefreshCmd": "cat(var_dic_list()) "
    }
   },
   "types_to_exclude": [
    "module",
    "function",
    "builtin_function_or_method",
    "instance",
    "_Feature"
   ],
   "window_display": false
  }
 },
 "nbformat": 4,
 "nbformat_minor": 2
}
